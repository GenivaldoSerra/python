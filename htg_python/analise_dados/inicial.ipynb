{
 "cells": [
  {
   "cell_type": "markdown",
   "metadata": {},
   "source": [
    "# Analisando Dados com Python"
   ]
  },
  {
   "cell_type": "markdown",
   "metadata": {},
   "source": [
    "### Passo a Passo do Projeto 🚀\n",
    "\n",
    "1. Importar a base de dados\n",
    "2. Visualizar a base de dados\n",
    "3. Fazer a limpeza dos dados\n",
    "4. Análise inicial dos cancelamentos\n",
    "5. Análise das causas dos cancelamentos"
   ]
  },
  {
   "cell_type": "code",
   "execution_count": null,
   "metadata": {},
   "outputs": [],
   "source": []
  }
 ],
 "metadata": {
  "kernelspec": {
   "display_name": ".venv",
   "language": "python",
   "name": "python3"
  },
  "language_info": {
   "name": "python",
   "version": "3.11.7"
  }
 },
 "nbformat": 4,
 "nbformat_minor": 2
}
